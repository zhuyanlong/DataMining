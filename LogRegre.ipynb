{
 "cells": [
  {
   "cell_type": "code",
   "execution_count": 1,
   "metadata": {},
   "outputs": [],
   "source": [
    "import matplotlib.pyplot as plt\n",
    "from LogRegre import *"
   ]
  },
  {
   "cell_type": "code",
   "execution_count": 2,
   "metadata": {},
   "outputs": [],
   "source": [
    "dataMat,labelMat=loadData()"
   ]
  },
  {
   "cell_type": "code",
   "execution_count": 4,
   "metadata": {},
   "outputs": [],
   "source": [
    "dataArr=np.array(dataMat)"
   ]
  },
  {
   "cell_type": "code",
   "execution_count": 7,
   "metadata": {},
   "outputs": [],
   "source": [
    "n=np.shape(dataArr)[0]"
   ]
  },
  {
   "cell_type": "code",
   "execution_count": 9,
   "metadata": {},
   "outputs": [],
   "source": [
    "xcord1=[]\n",
    "ycord1=[]\n",
    "xcord2=[]\n",
    "ycord2=[]"
   ]
  },
  {
   "cell_type": "code",
   "execution_count": 10,
   "metadata": {},
   "outputs": [],
   "source": [
    "#分开存储两类点\n",
    "for i in range(n):\n",
    "    if int(labelMat[i])==1:\n",
    "        xcord1.append(dataArr[i,1])\n",
    "        ycord1.append(dataArr[i,2])\n",
    "    else:\n",
    "        xcord2.append(dataArr[i,1])\n",
    "        ycord2.append(dataArr[i,2])"
   ]
  },
  {
   "cell_type": "code",
   "execution_count": 14,
   "metadata": {},
   "outputs": [],
   "source": [
    "weights=gradAscent(dataMat,labelMat)"
   ]
  },
  {
   "cell_type": "code",
   "execution_count": 38,
   "metadata": {},
   "outputs": [
    {
     "data": {
      "image/png": "[encoded data removed]",
      "text/plain": [
       "<Figure size 432x288 with 1 Axes>"
      ]
     },
     "metadata": {
      "needs_background": "light"
     },
     "output_type": "display_data"
    }
   ],
   "source": [
    "fig=plt.figure()\n",
    "ax=fig.add_subplot(111)\n",
    "ax.scatter(xcord1,ycord1,s=30,c=\"red\",marker='s')\n",
    "ax.scatter(xcord2,ycord2,s=30,c=\"green\")\n",
    "x=np.arange(-3.0,3.0,0.1)\n",
    "y=(-weights[0]-weights[1]*x)/weights[2]\n",
    "ax.plot(x,np.array(y)[0])\n",
    "plt.xlabel('X1')\n",
    "plt.ylabel('X2')\n",
    "plt.show()"
   ]
  },
  {
   "cell_type": "code",
   "execution_count": 36,
   "metadata": {},
   "outputs": [
    {
     "data": {
      "text/plain": [
       "array([4.35102773, 4.42885454, 4.50668136, 4.58450817, 4.66233498,\n",
       "       4.7401618 , 4.81798861, 4.89581542, 4.97364223, 5.05146905,\n",
       "       5.12929586, 5.20712267, 5.28494949, 5.3627763 , 5.44060311,\n",
       "       5.51842993, 5.59625674, 5.67408355, 5.75191037, 5.82973718,\n",
       "       5.90756399, 5.9853908 , 6.06321762, 6.14104443, 6.21887124,\n",
       "       6.29669806, 6.37452487, 6.45235168, 6.5301785 , 6.60800531,\n",
       "       6.68583212, 6.76365893, 6.84148575, 6.91931256, 6.99713937,\n",
       "       7.07496619, 7.152793  , 7.23061981, 7.30844663, 7.38627344,\n",
       "       7.46410025, 7.54192706, 7.61975388, 7.69758069, 7.7754075 ,\n",
       "       7.85323432, 7.93106113, 8.00888794, 8.08671476, 8.16454157,\n",
       "       8.24236838, 8.32019519, 8.39802201, 8.47584882, 8.55367563,\n",
       "       8.63150245, 8.70932926, 8.78715607, 8.86498289, 8.9428097 ])"
      ]
     },
     "execution_count": 36,
     "metadata": {},
     "output_type": "execute_result"
    }
   ],
   "source": [
    "np.array(y)[0]"
   ]
  },
  {
   "cell_type": "code",
   "execution_count": null,
   "metadata": {},
   "outputs": [],
   "source": []
  }
 ],
 "metadata": {
  "kernelspec": {
   "display_name": "Python 3",
   "language": "python",
   "name": "python3"
  },
  "language_info": {
   "codemirror_mode": {
    "name": "ipython",
    "version": 3
   },
   "file_extension": ".py",
   "mimetype": "text/x-python",
   "name": "python",
   "nbconvert_exporter": "python",
   "pygments_lexer": "ipython3",
   "version": "3.7.6"
  }
 },
 "nbformat": 4,
 "nbformat_minor": 4
}
